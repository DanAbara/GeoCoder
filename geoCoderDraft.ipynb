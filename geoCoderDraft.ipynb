{
 "cells": [
  {
   "cell_type": "code",
   "execution_count": 153,
   "id": "565a3ab4",
   "metadata": {},
   "outputs": [],
   "source": [
    "import pandas as pd\n",
    "from geopy.geocoders import ArcGIS"
   ]
  },
  {
   "cell_type": "code",
   "execution_count": 154,
   "id": "61dde83a",
   "metadata": {},
   "outputs": [],
   "source": [
    "# read initial csv file\n",
    "df=pd.read_csv(\"scrapedPages.csv\")"
   ]
  },
  {
   "cell_type": "code",
   "execution_count": 155,
   "id": "9a1e4aa6",
   "metadata": {},
   "outputs": [
    {
     "data": {
      "text/plain": [
       "41.58501000000007"
      ]
     },
     "execution_count": 155,
     "metadata": {},
     "output_type": "execute_result"
    }
   ],
   "source": [
    "# create geocoder instance to test geocoding service\n",
    "geoLocator=ArcGIS()\n",
    "location=geoLocator.geocode(\"1003 Winchester Blvd. Rock Springs, WY 82901\")\n",
    "#dir(location)\n",
    "location.latitude"
   ]
  },
  {
   "cell_type": "code",
   "execution_count": 165,
   "id": "7deef3e2",
   "metadata": {},
   "outputs": [],
   "source": [
    "# create a new column which combines the address and locality for ease of geocoding and remove irrelevant columns\n",
    "def getAddress(add,local):\n",
    "    return add+\" \"+local\n",
    "\n",
    "df[\"Address\"]=[getAddress(add,local) for add,local in zip(df[\"Address\"],df[\"Locality\"])]\n",
    "df2=df.drop(columns=[\"Locality\",\"Lot Size\",\"Half Baths\",\"Unnamed: 0\", \"Full Baths\"],axis=1)\n",
    "df2.to_csv(\"forGeocoding.csv\",index=False)"
   ]
  },
  {
   "cell_type": "code",
   "execution_count": 166,
   "id": "75d14bff",
   "metadata": {},
   "outputs": [
    {
     "data": {
      "text/plain": [
       "Location(82901, Rock Springs, Wyoming, (41.58501000000007, -109.21828999999997, 0.0))"
      ]
     },
     "execution_count": 166,
     "metadata": {},
     "output_type": "execute_result"
    }
   ],
   "source": [
    "# read the newly generated csv\n",
    "df2=pd.read_csv(\"forGeocoding.csv\")\n",
    "\n",
    "# function to geocode addresses supplied\n",
    "def getLocation(address):\n",
    "    geoLocator=ArcGIS()\n",
    "    location=geoLocator.geocode(address)\n",
    "    return location\n",
    "\n",
    "# Test\n",
    "example_address=df2.loc[1,'Address'] # loc method specifies row index and col\n",
    "getLocation(example_address)"
   ]
  },
  {
   "cell_type": "code",
   "execution_count": 176,
   "id": "20f08c71",
   "metadata": {},
   "outputs": [
    {
     "name": "stdout",
     "output_type": "stream",
     "text": [
      "         Price                                            Address  Beds  \\\n",
      "0     $725,000  0 Gateway Rock Springs, WY 82901 Rock Springs,...   NaN   \n",
      "1     $452,900  1003 Winchester Blvd. Rock Springs, WY 82901 R...   4.0   \n",
      "2     $396,900  600 Talladega Rock Springs, WY 82901 Rock Spri...   5.0   \n",
      "3     $389,900  3239 Spearhead Way Rock Springs, WY 82901 Rock...   4.0   \n",
      "4     $254,000  522 Emerald Street Rock Springs, WY 82901 Rock...   3.0   \n",
      "5     $252,900  1302 Veteran's Drive Rock Springs, WY 82901 Ro...   4.0   \n",
      "6     $210,000  1021 Cypress Cir Rock Springs, WY 82901 Rock S...   4.0   \n",
      "7     $209,000  913 Madison Dr Rock Springs, WY 82901 Rock Spr...   3.0   \n",
      "8     $199,900  1344 Teton Street Rock Springs, WY 82901 Rock ...   3.0   \n",
      "9     $196,900  4 Minnies Lane Rock Springs, WY 82901 Rock Spr...   3.0   \n",
      "10  $1,700,000  9339 Sd 26900 Rocksprings, TX 78880 Rockspring...   NaN   \n",
      "11  $1,100,000  RR674P13 Hwy 377 Rocksprings, TX 78880 Rockspr...   NaN   \n",
      "12  $1,080,000  0 Hwy 41 Rocksprings, TX 78880 Rocksprings, TX...   NaN   \n",
      "13    $908,350  9339 Sd 26900 Rocksprings, TX 78880 Rockspring...   NaN   \n",
      "14    $905,000  CR450 Hwy 377 Rocksprings, TX 78880 Rockspring...   NaN   \n",
      "15    $695,000  Cr 240 Cr 240 Rocksprings, TX 78880 Rockspring...   NaN   \n",
      "16    $605,000  RR674 Hwy 377 Rocksprings, TX 78880 Rockspring...   NaN   \n",
      "17    $559,805  9770a Sd 26900 Rocksprings, TX 78880 Rocksprin...   NaN   \n",
      "18    $504,000  Lot17 CR 2630 Rocksprings, TX 78880 Rockspring...   NaN   \n",
      "19    $410,000  Tr12,16 CR 520 Rocksprings, TX 78880 Rocksprin...   NaN   \n",
      "20    $299,900  32575 S Shadow Mountain Road Black Canyon City...   3.0   \n",
      "21    $167,500  32750 S Shangrila Drive Black Canyon City, AZ ...   3.0   \n",
      "22    $150,000  0000 Black Canyon Highway Black Canyon City, A...   NaN   \n",
      "23    $129,500  34775 S CHOLLA Drive Black Canyon City, AZ 853...   3.0   \n",
      "24    $129,000  33403 S. HA-WA-SI TERRACE BLACK CANYON CITY, A...   4.0   \n",
      "25     $80,000  34263 S Bertha Street Black Canyon City, AZ 85...   5.0   \n",
      "26     $77,900  33160 S Canyon Road Black Canyon City, AZ 8532...   3.0   \n",
      "27     $70,500  19421 E Todd Evans Road Black Canyon City, AZ ...   3.0   \n",
      "28     $70,000  18688 E AGUA Vista Black Canyon City, AZ 85324...   NaN   \n",
      "29     $67,500  50600 N Old Black Canyon Road Black Canyon Cit...   NaN   \n",
      "30     $54,900  20101 E SQUAW VALLEY Road Black Canyon City, A...   NaN   \n",
      "31     $45,600  33259 S Canyon Road Black Canyon City, AZ 8532...   3.0   \n",
      "32     $40,000  34558 S ROADRUNNER RD Black Canyon City, AZ 85...   2.0   \n",
      "33     $30,000  19260 E Scenic Loop Road Black Canyon City, AZ...   NaN   \n",
      "34     $29,000  19000 E MAREN Avenue Black Canyon City, AZ 853...   NaN   \n",
      "35     $28,995  19350 E SAGUARO Drive Black Canyon City, AZ 85...   NaN   \n",
      "36     $15,000  20650 E Amethyst Place Black Canyon City, AZ 8...   NaN   \n",
      "\n",
      "     Area   Latitude   Longitude  \n",
      "0     NaN  41.584308 -109.248052  \n",
      "1     NaN  41.585010 -109.218290  \n",
      "2   3,154  41.594230 -109.271630  \n",
      "3   3,076  41.591470 -109.265400  \n",
      "4   1,172  41.583430 -109.204740  \n",
      "5   1,932  41.598510 -109.212290  \n",
      "6   1,676  41.624690 -109.225940  \n",
      "7   1,344  41.597930 -109.244150  \n",
      "8   1,920  41.571870 -109.217530  \n",
      "9   1,664  41.007990 -109.425910  \n",
      "10  2,560  30.142296  -99.843421  \n",
      "11  2,000  30.015794 -100.213279  \n",
      "12    NaN  30.075444 -100.019435  \n",
      "13  2,560  30.142296  -99.843421  \n",
      "14    NaN  30.015762 -100.211099  \n",
      "15  1,398  30.081140  -99.927301  \n",
      "16  1,738  30.015794 -100.213279  \n",
      "17  1,080  30.138381  -99.848389  \n",
      "18    NaN  30.075444 -100.019435  \n",
      "19    NaN  29.940849 -100.322402  \n",
      "20  2,318  34.091847 -112.120343  \n",
      "21  2,120  34.088484 -112.118144  \n",
      "22    NaN  34.063683 -112.152488  \n",
      "23  1,220  34.064538 -112.135471  \n",
      "24  2,000  34.079281 -112.126847  \n",
      "25  2,260  34.067417 -112.154310  \n",
      "26  1,248  34.082453 -112.132280  \n",
      "27  1,404  34.070163 -112.144306  \n",
      "28    NaN  34.055159 -112.156619  \n",
      "29    NaN  34.065954 -112.149981  \n",
      "30    NaN  34.077151 -112.129917  \n",
      "31  1,056  34.080963 -112.133357  \n",
      "32    784  34.064733 -112.138476  \n",
      "33    NaN  34.077956 -112.146378  \n",
      "34    NaN  34.090354 -112.152605  \n",
      "35    NaN  34.073310 -112.144855  \n",
      "36    NaN  34.076007 -112.122904  \n"
     ]
    }
   ],
   "source": [
    "# create two new columns in dataframe and use getLocation func to populate them via list comprehensions\n",
    "df2[\"Latitude\"]=[getLocation(address).latitude for address in df2[\"Address\"]]\n",
    "df2[\"Longitude\"]=[getLocation(address).longitude for address in df2[\"Address\"]]\n",
    "print(df2)"
   ]
  },
  {
   "cell_type": "code",
   "execution_count": 173,
   "id": "a596e8ff",
   "metadata": {},
   "outputs": [
    {
     "data": {
      "text/plain": [
       "True"
      ]
     },
     "execution_count": 173,
     "metadata": {},
     "output_type": "execute_result"
    }
   ],
   "source": [
    "# for production - to check that one of the columns of the uploaded file is named as either 'address' or 'Address'\n",
    "def checkFileColumns(df):\n",
    "    if \"address\" in df.columns or \"address\".title() in df.columns:\n",
    "        return True    \n",
    "\n",
    "# Test if it works for column with 'addresss'\n",
    "df3=df2.rename(columns={\"Address\":\"address\"})\n",
    "checkFileColumns(df3)"
   ]
  },
  {
   "cell_type": "code",
   "execution_count": 174,
   "id": "b18c7d63",
   "metadata": {},
   "outputs": [
    {
     "name": "stdout",
     "output_type": "stream",
     "text": [
      "just testing\n"
     ]
    }
   ],
   "source": [
    "if checkFileColumns(df3) is True:\n",
    "    print(\"just testing\")"
   ]
  },
  {
   "cell_type": "code",
   "execution_count": 175,
   "id": "31d05bbc",
   "metadata": {},
   "outputs": [],
   "source": [
    "# create file without address column for testing\n",
    "df4=df3.drop(columns=\"address\",axis=1)\n",
    "df4.to_csv(\"noAddress.csv\",index=False)"
   ]
  },
  {
   "cell_type": "code",
   "execution_count": null,
   "id": "63689409",
   "metadata": {},
   "outputs": [],
   "source": []
  }
 ],
 "metadata": {
  "kernelspec": {
   "display_name": "Python 3",
   "language": "python",
   "name": "python3"
  },
  "language_info": {
   "codemirror_mode": {
    "name": "ipython",
    "version": 3
   },
   "file_extension": ".py",
   "mimetype": "text/x-python",
   "name": "python",
   "nbconvert_exporter": "python",
   "pygments_lexer": "ipython3",
   "version": "3.9.5"
  }
 },
 "nbformat": 4,
 "nbformat_minor": 5
}
