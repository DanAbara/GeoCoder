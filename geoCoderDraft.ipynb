{
 "cells": [
  {
   "cell_type": "code",
   "execution_count": 153,
   "id": "191dd8f9",
   "metadata": {},
   "outputs": [],
   "source": [
    "import pandas as pd\n",
    "from geopy.geocoders import ArcGIS"
   ]
  },
  {
   "cell_type": "code",
   "execution_count": 154,
   "id": "e6e13f21",
   "metadata": {},
   "outputs": [],
   "source": [
    "# read initial csv file\n",
    "df=pd.read_csv(\"scrapedPages.csv\")"
   ]
  },
  {
   "cell_type": "code",
   "execution_count": 155,
   "id": "82b2a677",
   "metadata": {},
   "outputs": [
    {
     "data": {
      "text/plain": [
       "41.58501000000007"
      ]
     },
     "execution_count": 155,
     "metadata": {},
     "output_type": "execute_result"
    }
   ],
   "source": [
    "# create geocoder instance to test geocoding service\n",
    "geoLocator=ArcGIS()\n",
    "location=geoLocator.geocode(\"1003 Winchester Blvd. Rock Springs, WY 82901\")\n",
    "#dir(location)\n",
    "location.latitude"
   ]
  },
  {
   "cell_type": "code",
   "execution_count": 165,
   "id": "de65ebbc",
   "metadata": {},
   "outputs": [],
   "source": [
    "# create a new column which combines the address and locality for ease of geocoding and remove irrelevant columns\n",
    "def getAddress(add,local):\n",
    "    return add+\" \"+local\n",
    "\n",
    "df[\"Address\"]=[getAddress(add,local) for add,local in zip(df[\"Address\"],df[\"Locality\"])]\n",
    "df2=df.drop(columns=[\"Locality\",\"Lot Size\",\"Half Baths\",\"Unnamed: 0\", \"Full Baths\"],axis=1)\n",
    "df2.to_csv(\"forGeocoding.csv\",index=False)"
   ]
  },
  {
   "cell_type": "code",
   "execution_count": 166,
   "id": "139bd47d",
   "metadata": {},
   "outputs": [
    {
     "data": {
      "text/plain": [
       "Location(82901, Rock Springs, Wyoming, (41.58501000000007, -109.21828999999997, 0.0))"
      ]
     },
     "execution_count": 166,
     "metadata": {},
     "output_type": "execute_result"
    }
   ],
   "source": [
    "# read the newly generated csv\n",
    "df2=pd.read_csv(\"forGeocoding.csv\")\n",
    "\n",
    "# function to geocode addresses supplied\n",
    "def getLocation(address):\n",
    "    geoLocator=ArcGIS()\n",
    "    location=geoLocator.geocode(address)\n",
    "    return location\n",
    "\n",
    "# Test\n",
    "example_address=df2.loc[1,'Address'] # loc method specifies row index and col\n",
    "getLocation(example_address)"
   ]
  },
  {
   "cell_type": "code",
   "execution_count": null,
   "id": "b88f2e63",
   "metadata": {},
   "outputs": [],
   "source": [
    "# create two new columns in dataframe and use getLocation func to populate them via list comprehensions\n",
    "df2[\"Latitude\"]=[getLocation(address).latitude for address in df2[\"Address\"]]\n",
    "df2[\"Longitude\"]=[getLocation(address).longitude for address in df2[\"Address\"]]\n",
    "print(df2)"
   ]
  },
  {
   "cell_type": "code",
   "execution_count": 173,
   "id": "5b458a95",
   "metadata": {},
   "outputs": [
    {
     "data": {
      "text/plain": [
       "True"
      ]
     },
     "execution_count": 173,
     "metadata": {},
     "output_type": "execute_result"
    }
   ],
   "source": [
    "# for production - to check that one of the columns of the uploaded file is named as either 'address' or 'Address'\n",
    "def checkFileColumns(df):\n",
    "    if \"address\" in df.columns or \"address\".title() in df.columns:\n",
    "        return True    \n",
    "\n",
    "# Test if it works for column with 'addresss'\n",
    "df3=df2.rename(columns={\"Address\":\"address\"})\n",
    "checkFileColumns(df3)"
   ]
  },
  {
   "cell_type": "code",
   "execution_count": 174,
   "id": "1b663ac3",
   "metadata": {},
   "outputs": [
    {
     "name": "stdout",
     "output_type": "stream",
     "text": [
      "just testing\n"
     ]
    }
   ],
   "source": [
    "if checkFileColumns(df3) is True:\n",
    "    print(\"just testing\")"
   ]
  },
  {
   "cell_type": "code",
   "execution_count": 175,
   "id": "5096a592",
   "metadata": {},
   "outputs": [],
   "source": [
    "# create file without address column for testing\n",
    "df4=df3.drop(columns=\"address\",axis=1)\n",
    "df4.to_csv(\"noAddress.csv\",index=False)"
   ]
  },
  {
   "cell_type": "code",
   "execution_count": null,
   "id": "511982c6",
   "metadata": {},
   "outputs": [],
   "source": []
  }
 ],
 "metadata": {
  "kernelspec": {
   "display_name": "Python 3",
   "language": "python",
   "name": "python3"
  },
  "language_info": {
   "codemirror_mode": {
    "name": "ipython",
    "version": 3
   },
   "file_extension": ".py",
   "mimetype": "text/x-python",
   "name": "python",
   "nbconvert_exporter": "python",
   "pygments_lexer": "ipython3",
   "version": "3.9.5"
  }
 },
 "nbformat": 4,
 "nbformat_minor": 5
}
