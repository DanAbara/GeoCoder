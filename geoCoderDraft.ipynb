{
 "cells": [
  {
   "cell_type": "code",
   "execution_count": 153,
   "id": "9da2d733",
   "metadata": {},
   "outputs": [],
   "source": [
    "import pandas as pd\n",
    "from geopy.geocoders import ArcGIS"
   ]
  },
  {
   "cell_type": "code",
   "execution_count": 154,
   "id": "dddb6e8f",
   "metadata": {},
   "outputs": [],
   "source": [
    "# read initial csv file\n",
    "df=pd.read_csv(\"scrapedPages.csv\")"
   ]
  },
  {
   "cell_type": "code",
   "execution_count": 155,
   "id": "cf506935",
   "metadata": {},
   "outputs": [
    {
     "data": {
      "text/plain": [
       "41.58501000000007"
      ]
     },
     "execution_count": 155,
     "metadata": {},
     "output_type": "execute_result"
    }
   ],
   "source": [
    "# create geocoder instance to test geocoding service\n",
    "geoLocator=ArcGIS()\n",
    "location=geoLocator.geocode(\"1003 Winchester Blvd. Rock Springs, WY 82901\")\n",
    "#dir(location)\n",
    "location.latitude"
   ]
  },
  {
   "cell_type": "code",
   "execution_count": 190,
   "id": "9a7afc25",
   "metadata": {},
   "outputs": [],
   "source": [
    "# create a new column which combines the address and locality for ease of geocoding and remove irrelevant columns\n",
    "def getAddress(add,local):\n",
    "    return add+\" \"+local\n",
    "\n",
    "df[\"Address\"]=[getAddress(add,local) for add,local in zip(df[\"Address\"],df[\"Locality\"])]\n",
    "df2=df.drop(columns=[\"Locality\",\"Lot Size\",\"Half Baths\",\"Unnamed: 0\", \"Full Baths\"],axis=1)\n",
    "df2.loc[0:4].to_csv(\"forGeocoding.csv\",index=False) # save only first 5 rows to csv"
   ]
  },
  {
   "cell_type": "code",
   "execution_count": 191,
   "id": "2668eaa7",
   "metadata": {},
   "outputs": [
    {
     "data": {
      "text/plain": [
       "Location(82901, Rock Springs, Wyoming, (41.58501000000007, -109.21828999999997, 0.0))"
      ]
     },
     "execution_count": 191,
     "metadata": {},
     "output_type": "execute_result"
    }
   ],
   "source": [
    "# read the newly generated csv\n",
    "df2=pd.read_csv(\"forGeocoding.csv\")\n",
    "\n",
    "# function to geocode addresses supplied\n",
    "def getLocation(address):\n",
    "    geoLocator=ArcGIS()\n",
    "    location=geoLocator.geocode(address)\n",
    "    return location\n",
    "\n",
    "# Test\n",
    "example_address=df2.loc[1,'Address'] # loc method specifies row index and col\n",
    "getLocation(example_address)"
   ]
  },
  {
   "cell_type": "code",
   "execution_count": 192,
   "id": "08c5fded",
   "metadata": {},
   "outputs": [
    {
     "name": "stdout",
     "output_type": "stream",
     "text": [
      "      Price                                            Address  Beds   Area  \\\n",
      "0  $725,000  0 Gateway Rock Springs, WY 82901 Rock Springs,...   NaN    NaN   \n",
      "1  $452,900  1003 Winchester Blvd. Rock Springs, WY 82901 R...   4.0    NaN   \n",
      "2  $396,900  600 Talladega Rock Springs, WY 82901 Rock Spri...   5.0  3,154   \n",
      "3  $389,900  3239 Spearhead Way Rock Springs, WY 82901 Rock...   4.0  3,076   \n",
      "4  $254,000  522 Emerald Street Rock Springs, WY 82901 Rock...   3.0  1,172   \n",
      "\n",
      "    Latitude   Longitude  \n",
      "0  41.584308 -109.248052  \n",
      "1  41.585010 -109.218290  \n",
      "2  41.594230 -109.271630  \n",
      "3  41.591470 -109.265400  \n",
      "4  41.583430 -109.204740  \n"
     ]
    }
   ],
   "source": [
    "# create two new columns in dataframe and use getLocation func to populate them via list comprehensions\n",
    "df2[\"Latitude\"]=[getLocation(address).latitude for address in df2[\"Address\"]]\n",
    "df2[\"Longitude\"]=[getLocation(address).longitude for address in df2[\"Address\"]]\n",
    "print(df2)"
   ]
  },
  {
   "cell_type": "code",
   "execution_count": 181,
   "id": "d8f1480d",
   "metadata": {},
   "outputs": [
    {
     "data": {
      "text/plain": [
       "True"
      ]
     },
     "execution_count": 181,
     "metadata": {},
     "output_type": "execute_result"
    }
   ],
   "source": [
    "# for production - to check that one of the columns of the uploaded file is named as either 'address' or 'Address'\n",
    "def checkFileColumns(df):\n",
    "    if \"address\" in df.columns or \"address\".title() in df.columns:\n",
    "        return True    \n",
    "\n",
    "# Test if it works for column with 'addresss'\n",
    "df3=df2.rename(columns={\"Address\":\"address\"})\n",
    "checkFileColumns(df3)"
   ]
  },
  {
   "cell_type": "code",
   "execution_count": 182,
   "id": "6eca6e4c",
   "metadata": {},
   "outputs": [
    {
     "name": "stdout",
     "output_type": "stream",
     "text": [
      "just testing\n"
     ]
    }
   ],
   "source": [
    "if checkFileColumns(df3) is True:\n",
    "    print(\"just testing\")"
   ]
  },
  {
   "cell_type": "code",
   "execution_count": 198,
   "id": "ff21b0a6",
   "metadata": {},
   "outputs": [],
   "source": [
    "# create file without address column for testing\n",
    "df4=df3.drop(columns=\"address\",axis=1)\n",
    "df4.loc[0:4].to_csv(\"noAddress.csv\",index=False) # send only first 5 rows of the df without an address column to csv"
   ]
  }
 ],
 "metadata": {
  "kernelspec": {
   "display_name": "Python 3",
   "language": "python",
   "name": "python3"
  },
  "language_info": {
   "codemirror_mode": {
    "name": "ipython",
    "version": 3
   },
   "file_extension": ".py",
   "mimetype": "text/x-python",
   "name": "python",
   "nbconvert_exporter": "python",
   "pygments_lexer": "ipython3",
   "version": "3.9.5"
  }
 },
 "nbformat": 4,
 "nbformat_minor": 5
}
