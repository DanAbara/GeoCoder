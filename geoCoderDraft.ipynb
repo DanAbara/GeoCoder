{
 "cells": [
  {
   "cell_type": "markdown",
   "id": "b816cd6a",
   "metadata": {},
   "source": [
    "### Geocoder Application Sketch"
   ]
  },
  {
   "cell_type": "markdown",
   "id": "4dcecfff",
   "metadata": {},
   "source": [
    "This notebook tests the code for a geocoder web application deployed using Flask. The app takes a csv with an address column and adds two extra columns to the csv with the longitude and latitudes respectively. \n",
    "\n",
    "Two columns from an existing csv are combined into a single 'Address' column and saved as a separate csv file 'forGeocoding.csv' which is used to test the app. "
   ]
  },
  {
   "cell_type": "code",
   "execution_count": 205,
   "id": "5df4a20b",
   "metadata": {},
   "outputs": [],
   "source": [
    "import pandas as pd\n",
    "from geopy.geocoders import ArcGIS"
   ]
  },
  {
   "cell_type": "code",
   "execution_count": 206,
   "id": "4f3c0d9e",
   "metadata": {},
   "outputs": [],
   "source": [
    "# Load random csv file with address columns\n",
    "df=pd.read_csv(\"scrapedPages.csv\")"
   ]
  },
  {
   "cell_type": "code",
   "execution_count": 207,
   "id": "f8ce2d68",
   "metadata": {},
   "outputs": [
    {
     "data": {
      "text/plain": [
       "41.58501000000007"
      ]
     },
     "execution_count": 207,
     "metadata": {},
     "output_type": "execute_result"
    }
   ],
   "source": [
    "# create geocoder instance and test geocoding service\n",
    "geoLocator=ArcGIS()\n",
    "location=geoLocator.geocode(\"1003 Winchester Blvd. Rock Springs, WY 82901\")\n",
    "location.latitude"
   ]
  },
  {
   "cell_type": "code",
   "execution_count": 208,
   "id": "66ccb3ed",
   "metadata": {},
   "outputs": [],
   "source": [
    "# create a new column which combines the address and locality of 'scrapedPages.csv' and remove irrelevant columns\n",
    "def getAddress(add,local):\n",
    "    return add+\" \"+local\n",
    "\n",
    "df[\"Address\"]=[getAddress(add,local) for add,local in zip(df[\"Address\"],df[\"Locality\"])]\n",
    "df2=df.drop(columns=[\"Locality\",\"Lot Size\",\"Half Baths\",\"Unnamed: 0\", \"Full Baths\"],axis=1)\n",
    "df2.loc[0:4].to_csv(\"forGeocoding.csv\",index=False) # save only first 5 rows to be used to test the app"
   ]
  },
  {
   "cell_type": "markdown",
   "id": "e6e55c7c",
   "metadata": {},
   "source": [
    "##### Start the app sketch"
   ]
  },
  {
   "cell_type": "code",
   "execution_count": 209,
   "id": "68ae5cdc",
   "metadata": {},
   "outputs": [
    {
     "data": {
      "text/plain": [
       "Location(82901, Rock Springs, Wyoming, (41.58501000000007, -109.21828999999997, 0.0))"
      ]
     },
     "execution_count": 209,
     "metadata": {},
     "output_type": "execute_result"
    }
   ],
   "source": [
    "# read the newly generated csv\n",
    "df2=pd.read_csv(\"forGeocoding.csv\")\n",
    "\n",
    "# function to geocode addresses supplied\n",
    "def getLocation(address):\n",
    "    geoLocator=ArcGIS()\n",
    "    location=geoLocator.geocode(address)\n",
    "    return location\n",
    "\n",
    "# Test the function\n",
    "example_address=df2.loc[1,'Address'] # loc method specifies row index and col\n",
    "getLocation(example_address)"
   ]
  },
  {
   "cell_type": "code",
   "execution_count": 210,
   "id": "896b5f0e",
   "metadata": {},
   "outputs": [
    {
     "name": "stdout",
     "output_type": "stream",
     "text": [
      "      Price                                       Address  Beds   Area  \\\n",
      "0  $725,000              0 Gateway Rock Springs, WY 82901   NaN    NaN   \n",
      "1  $452,900  1003 Winchester Blvd. Rock Springs, WY 82901   4.0    NaN   \n",
      "2  $396,900          600 Talladega Rock Springs, WY 82901   5.0  3,154   \n",
      "3  $389,900     3239 Spearhead Way Rock Springs, WY 82901   4.0  3,076   \n",
      "4  $254,000     522 Emerald Street Rock Springs, WY 82901   3.0  1,172   \n",
      "\n",
      "    Latitude   Longitude  \n",
      "0  41.584308 -109.248052  \n",
      "1  41.585010 -109.218290  \n",
      "2  41.594230 -109.271630  \n",
      "3  41.591470 -109.265400  \n",
      "4  41.583430 -109.204740  \n"
     ]
    }
   ],
   "source": [
    "# create two new columns in dataframe and use getLocation func to populate them via list comprehensions\n",
    "df2[\"Latitude\"]=[getLocation(address).latitude for address in df2[\"Address\"]]\n",
    "df2[\"Longitude\"]=[getLocation(address).longitude for address in df2[\"Address\"]]\n",
    "print(df2)"
   ]
  },
  {
   "cell_type": "code",
   "execution_count": 216,
   "id": "859a64f4",
   "metadata": {},
   "outputs": [
    {
     "data": {
      "text/plain": [
       "True"
      ]
     },
     "execution_count": 216,
     "metadata": {},
     "output_type": "execute_result"
    }
   ],
   "source": [
    "# for deployment - to check that one of the columns of the uploaded file is named as either 'address' or 'Address'\n",
    "def checkFileColumns(df):\n",
    "    if \"address\" in df.columns or \"address\".title() in df.columns:\n",
    "        return True \n",
    "    else:\n",
    "        return False\n",
    "\n",
    "# Test if it works for column with 'addresss'\n",
    "df3=df2.rename(columns={\"Address\":\"address\"})\n",
    "checkFileColumns(df3)"
   ]
  },
  {
   "cell_type": "code",
   "execution_count": 218,
   "id": "5535804a",
   "metadata": {},
   "outputs": [
    {
     "data": {
      "text/plain": [
       "False"
      ]
     },
     "execution_count": 218,
     "metadata": {},
     "output_type": "execute_result"
    }
   ],
   "source": [
    "# create file without address column for testing error handling when user uploads file without address column\n",
    "df4=df3.drop(columns=\"address\",axis=1)\n",
    "df4.loc[0:4].to_csv(\"noAddress.csv\",index=False) # send only first 5 rows of the df without an address column to csv\n",
    "\n",
    "# Test\n",
    "noaddress_df=pd.read_csv(\"noAddress.csv\")\n",
    "checkFileColumns(noaddress_df)"
   ]
  },
  {
   "cell_type": "code",
   "execution_count": null,
   "id": "2d707a49",
   "metadata": {},
   "outputs": [],
   "source": []
  }
 ],
 "metadata": {
  "kernelspec": {
   "display_name": "Python 3",
   "language": "python",
   "name": "python3"
  },
  "language_info": {
   "codemirror_mode": {
    "name": "ipython",
    "version": 3
   },
   "file_extension": ".py",
   "mimetype": "text/x-python",
   "name": "python",
   "nbconvert_exporter": "python",
   "pygments_lexer": "ipython3",
   "version": "3.9.5"
  }
 },
 "nbformat": 4,
 "nbformat_minor": 5
}
